{
 "cells": [
  {
   "cell_type": "code",
   "execution_count": 115,
   "id": "7b486c2a-4428-4f13-8e94-cd896eb36731",
   "metadata": {},
   "outputs": [],
   "source": [
    "from sklearn.model_selection import train_test_split\n",
    "import time\n",
    "import pandas as pd"
   ]
  },
  {
   "cell_type": "code",
   "execution_count": 122,
   "id": "9b8381c5-d5de-405f-bc09-473b00f701f5",
   "metadata": {},
   "outputs": [
    {
     "data": {
      "text/plain": [
       "12"
      ]
     },
     "execution_count": 122,
     "metadata": {},
     "output_type": "execute_result"
    }
   ],
   "source": [
    "with open(\"Dados/dataset_coleta_SEDS.json\", 'r', encoding = 'utf-8') as file:\n",
    "    data = json.load(file)\n",
    "\n",
    "data['dados'][1]['question']\n",
    "len(data['dados'])"
   ]
  },
  {
   "cell_type": "code",
   "execution_count": 123,
   "id": "9c03fd4d-0023-41f1-a0b8-7898c60e9387",
   "metadata": {},
   "outputs": [],
   "source": [
    "data_list = []\n",
    "for item in data['dados']:\n",
    "    context = item['context']\n",
    "    question = item['question']\n",
    "    answers = item['answers']\n",
    "    respostas = []\n",
    "    # Iterar sobre as respostas para extrair o text e answer_start\n",
    "    for answer in answers:\n",
    "        text = answer['text']\n",
    "        answer_start = answer['answer_start']\n",
    "        respostas.append({'text': text, 'answer_start': answer_start})\n",
    "        \n",
    "        # Adicionar os dados extraídos à lista data_list\n",
    "    data_list.append({'context': context, 'question': question, 'answer': respostas})"
   ]
  },
  {
   "cell_type": "code",
   "execution_count": 124,
   "id": "85d5e70c-4b2e-40fb-8aaf-0cd3ece3fdc7",
   "metadata": {},
   "outputs": [
    {
     "data": {
      "text/plain": [
       "9"
      ]
     },
     "execution_count": 124,
     "metadata": {},
     "output_type": "execute_result"
    }
   ],
   "source": [
    "train_data, test_data = train_test_split(data_list, test_size = 0.25, random_state = 50)\n",
    "len(train_data)"
   ]
  },
  {
   "cell_type": "code",
   "execution_count": 125,
   "id": "6a340da8-bdc1-4920-85c1-1f76a2b5c63a",
   "metadata": {},
   "outputs": [],
   "source": [
    "train_data_cv = []\n",
    "test_data_cv = []\n",
    "for item in train_data:\n",
    "    context = item['context']\n",
    "    question = item['question']\n",
    "    for answer in item['answer']:\n",
    "        text = answer['text']\n",
    "        start = answer['answer_start']\n",
    "        train_data_cv.append({'context': context, 'question': question, 'answer': text, 'start': start})\n",
    "\n",
    "# Iterando sobre test_data\n",
    "for item in test_data:\n",
    "    context = item['context']\n",
    "    question = item['question']\n",
    "    for answer in item['answer']:\n",
    "        text = answer['text']\n",
    "        start = answer['answer_start']\n",
    "        test_data_cv.append({'context': context, 'question': question, 'answer': text, 'start': start})\n"
   ]
  },
  {
   "cell_type": "code",
   "execution_count": 127,
   "id": "6fa7967e-73cd-490c-b04b-6149a83dd661",
   "metadata": {},
   "outputs": [],
   "source": [
    "train_df = pd.DataFrame(train_data_cv)\n",
    "test_df = pd.DataFrame(test_data_cv)\n",
    "\n",
    "train_df.to_csv('Dados/train_data.csv', index=False)\n",
    "test_df.to_csv('Dados/test_data.csv', index=False)"
   ]
  }
 ],
 "metadata": {
  "kernelspec": {
   "display_name": "Python 3 (ipykernel)",
   "language": "python",
   "name": "python3"
  },
  "language_info": {
   "codemirror_mode": {
    "name": "ipython",
    "version": 3
   },
   "file_extension": ".py",
   "mimetype": "text/x-python",
   "name": "python",
   "nbconvert_exporter": "python",
   "pygments_lexer": "ipython3",
   "version": "3.12.2"
  }
 },
 "nbformat": 4,
 "nbformat_minor": 5
}
