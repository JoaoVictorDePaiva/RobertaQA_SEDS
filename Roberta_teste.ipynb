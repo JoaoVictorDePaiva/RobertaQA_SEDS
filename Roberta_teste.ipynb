{
 "cells": [
  {
   "cell_type": "code",
   "execution_count": 66,
   "id": "7b486c2a-4428-4f13-8e94-cd896eb36731",
   "metadata": {},
   "outputs": [],
   "source": [
    "from transformers import AutoTokenizer, RobertaForQuestionAnswering\n",
    "import torch\n",
    "import json\n"
   ]
  },
  {
   "cell_type": "code",
   "execution_count": 67,
   "id": "cc03d2c4-5572-4be3-a82b-b80462e355fa",
   "metadata": {},
   "outputs": [],
   "source": [
    "tokenizer = AutoTokenizer.from_pretrained(\"deepset/roberta-base-squad2\")\n",
    "model = RobertaForQuestionAnswering.from_pretrained(\"deepset/roberta-base-squad2\")"
   ]
  },
  {
   "cell_type": "code",
   "execution_count": 68,
   "id": "66a91ab4-0db7-4b50-aa2c-180241896c0b",
   "metadata": {},
   "outputs": [
    {
     "name": "stdout",
     "output_type": "stream",
     "text": [
      "trainable model parameters: 124056578\n",
      "all model parameters: 124056578\n",
      "percentage of trainable model parameters: 100.00%\n"
     ]
    }
   ],
   "source": [
    "def print_number_of_trainable_model_parameters(model):\n",
    "    trainable_model_params = 0\n",
    "    all_model_params = 0\n",
    "    for _, param in model.named_parameters():\n",
    "        all_model_params += param.numel()\n",
    "        if param.requires_grad:\n",
    "            trainable_model_params += param.numel()\n",
    "    return f\"trainable model parameters: {trainable_model_params}\\nall model parameters: {all_model_params}\\npercentage of trainable model parameters: {100 * trainable_model_params / all_model_params:.2f}%\"\n",
    "\n",
    "print(print_number_of_trainable_model_parameters(model))"
   ]
  },
  {
   "cell_type": "code",
   "execution_count": 69,
   "id": "90f80f7e-c59d-4ab9-a3a9-6380693ec331",
   "metadata": {},
   "outputs": [
    {
     "data": {
      "text/plain": [
       "23"
      ]
     },
     "execution_count": 69,
     "metadata": {},
     "output_type": "execute_result"
    }
   ],
   "source": [
    "dataset = \"Dados/dataset_SEDS.json\"\n",
    "len(dataset)"
   ]
  },
  {
   "cell_type": "code",
   "execution_count": 83,
   "id": "0e49aa9e-50fc-47a6-987f-69dd185d0304",
   "metadata": {},
   "outputs": [],
   "source": [
    "dataset = \"Dados/dataset_SEDS.json\"\n",
    "\n",
    "with open(dataset, 'r', encoding='utf-8') as f:\n",
    "    data = json.load(f)\n",
    "\n",
    "index = 8\n",
    "Question = data[index]['question']\n",
    "Context = data[index]['context']"
   ]
  },
  {
   "cell_type": "code",
   "execution_count": 84,
   "id": "6ad3f6a9-d833-4bba-aa44-a85724d94106",
   "metadata": {},
   "outputs": [
    {
     "name": "stdout",
     "output_type": "stream",
     "text": [
      "---------------------------------------------------------------------------------------------------\n",
      "INPUT PROMPT:\n",
      "\n",
      "Context of the Question.\n",
      "\n",
      "O Dignidade beneficia com R$ 300 mensais pessoas que tenham entre 60 anos e 64 anos 11 meses e 29 dias em situação de pobreza ou de extrema pobreza.\n",
      "\n",
      "\n",
      "Question:\n",
      "O que é o Programa Dignidade?\n",
      "\n",
      "---------------------------------------------------------------------------------------------------\n",
      "MODEL ANSWER - ZERO SHOT:\n",
      " R$ 300 mensais pessoas\n"
     ]
    }
   ],
   "source": [
    "prompt = f\"\"\"\n",
    "Context of the Question.\n",
    "\n",
    "{Context}\n",
    "\n",
    "\"\"\"\n",
    "\n",
    "inputs = tokenizer(Question, Context, return_tensors=\"pt\")\n",
    "with torch.no_grad():\n",
    "    outputs = model(**inputs)\n",
    "\n",
    "answer_start_index = outputs.start_logits.argmax()\n",
    "answer_end_index = outputs.end_logits.argmax()\n",
    "\n",
    "predict_answer_tokens = inputs.input_ids[0, answer_start_index : answer_end_index + 1]\n",
    "resposta = tokenizer.decode(predict_answer_tokens, skip_special_tokens=True)\n",
    "\n",
    "dash_line = '-'.join('' for x in range(100))\n",
    "print(dash_line)\n",
    "print(f'INPUT PROMPT:\\n{prompt}')\n",
    "print(f'Question:\\n{Question}\\n')\n",
    "print(dash_line)\n",
    "print(f'MODEL ANSWER - ZERO SHOT:\\n{resposta}')"
   ]
  },
  {
   "cell_type": "code",
   "execution_count": 85,
   "id": "748e26ed-e704-46a9-b0a7-23dbc69df120",
   "metadata": {
    "scrolled": true
   },
   "outputs": [
    {
     "name": "stdout",
     "output_type": "stream",
     "text": [
      "Loss: 0.04\n"
     ]
    }
   ],
   "source": [
    "# Converter índices de início e fim em probabilidades de classe usando softmax\n",
    "start_probs = torch.nn.functional.softmax(outputs.start_logits, dim=1)\n",
    "end_probs = torch.nn.functional.softmax(outputs.end_logits, dim=1)\n",
    "\n",
    "# Converter índices de início e fim em representações one-hot\n",
    "start_one_hot = torch.nn.functional.one_hot(torch.tensor([answer_start_index]), num_classes=start_probs.size(1))\n",
    "end_one_hot = torch.nn.functional.one_hot(torch.tensor([answer_end_index]), num_classes=end_probs.size(1))\n",
    "\n",
    "# Calcular a perda usando a função de perda de entropia cruzada\n",
    "start_loss = torch.nn.functional.binary_cross_entropy(start_probs, start_one_hot.float())\n",
    "end_loss = torch.nn.functional.binary_cross_entropy(end_probs, end_one_hot.float())\n",
    "\n",
    "# Calcular a perda total somando as perdas de início e fim\n",
    "total_loss = start_loss + end_loss\n",
    "\n",
    "# O valor da perda total pode ser acessado como um número decimal\n",
    "total_loss_value = total_loss.item()\n",
    "\n",
    "# Arredondar a perda para 2 casas decimais\n",
    "rounded_loss = round(total_loss_value, 2)\n",
    "\n",
    "print(f'Loss: {rounded_loss}')\n"
   ]
  },
  {
   "cell_type": "code",
   "execution_count": 88,
   "id": "cf1d1e18-2256-4ec4-8f47-99b937d8176c",
   "metadata": {},
   "outputs": [
    {
     "ename": "TypeError",
     "evalue": "'str' object is not callable",
     "output_type": "error",
     "traceback": [
      "\u001b[1;31m---------------------------------------------------------------------------\u001b[0m",
      "\u001b[1;31mTypeError\u001b[0m                                 Traceback (most recent call last)",
      "Cell \u001b[1;32mIn[88], line 10\u001b[0m\n\u001b[0;32m      6\u001b[0m     example[\u001b[38;5;124m'\u001b[39m\u001b[38;5;124mlabels\u001b[39m\u001b[38;5;124m'\u001b[39m] \u001b[38;5;241m=\u001b[39m tokenizer(example[\u001b[38;5;124m\"\u001b[39m\u001b[38;5;124mcontext\u001b[39m\u001b[38;5;124m\"\u001b[39m], padding\u001b[38;5;241m=\u001b[39m\u001b[38;5;124m\"\u001b[39m\u001b[38;5;124mmax_length\u001b[39m\u001b[38;5;124m\"\u001b[39m, truncation\u001b[38;5;241m=\u001b[39m\u001b[38;5;28;01mTrue\u001b[39;00m, return_tensors\u001b[38;5;241m=\u001b[39m\u001b[38;5;124m\"\u001b[39m\u001b[38;5;124mpt\u001b[39m\u001b[38;5;124m\"\u001b[39m)\u001b[38;5;241m.\u001b[39minput_ids\n\u001b[0;32m      8\u001b[0m     \u001b[38;5;28;01mreturn\u001b[39;00m example\n\u001b[1;32m---> 10\u001b[0m tokenized_datasets \u001b[38;5;241m=\u001b[39m \u001b[43mdataset\u001b[49m\u001b[43m(\u001b[49m\u001b[43mtokenize_function\u001b[49m\u001b[43m,\u001b[49m\u001b[43m \u001b[49m\u001b[43mbatched\u001b[49m\u001b[38;5;241;43m=\u001b[39;49m\u001b[38;5;28;43;01mTrue\u001b[39;49;00m\u001b[43m)\u001b[49m\n\u001b[0;32m     11\u001b[0m tokenized_datasets \u001b[38;5;241m=\u001b[39m tokenized_datasets\u001b[38;5;241m.\u001b[39mremove_columns([\u001b[38;5;124m'\u001b[39m\u001b[38;5;124mid\u001b[39m\u001b[38;5;124m'\u001b[39m, \u001b[38;5;124m'\u001b[39m\u001b[38;5;124mtopic\u001b[39m\u001b[38;5;124m'\u001b[39m, \u001b[38;5;124m'\u001b[39m\u001b[38;5;124mdialogue\u001b[39m\u001b[38;5;124m'\u001b[39m, \u001b[38;5;124m'\u001b[39m\u001b[38;5;124msummary\u001b[39m\u001b[38;5;124m'\u001b[39m,])\n",
      "\u001b[1;31mTypeError\u001b[0m: 'str' object is not callable"
     ]
    }
   ],
   "source": [
    "def tokenize_function(example):\n",
    "    start_prompt = 'Answer the question.\\n\\n'\n",
    "    end_prompt = '\\n\\nAnswer: '\n",
    "    prompt = [start_prompt + question + end_prompt for dialogue in example[\"question\"]]\n",
    "    example['input_ids'] = tokenizer(prompt, padding=\"max_length\", truncation=True, return_tensors=\"pt\").input_ids\n",
    "    example['labels'] = tokenizer(example[\"context\"], padding=\"max_length\", truncation=True, return_tensors=\"pt\").input_ids\n",
    "    \n",
    "    return example\n",
    "\n",
    "tokenized_datasets = dataset(tokenize_function, batched=True)\n",
    "tokenized_datasets = tokenized_datasets.remove_columns(['id', 'topic', 'dialogue', 'summary',])"
   ]
  },
  {
   "cell_type": "code",
   "execution_count": null,
   "id": "d3809ef8-1cd2-496d-a295-0c179736dec5",
   "metadata": {},
   "outputs": [],
   "source": []
  }
 ],
 "metadata": {
  "kernelspec": {
   "display_name": "Python 3 (ipykernel)",
   "language": "python",
   "name": "python3"
  },
  "language_info": {
   "codemirror_mode": {
    "name": "ipython",
    "version": 3
   },
   "file_extension": ".py",
   "mimetype": "text/x-python",
   "name": "python",
   "nbconvert_exporter": "python",
   "pygments_lexer": "ipython3",
   "version": "3.12.2"
  }
 },
 "nbformat": 4,
 "nbformat_minor": 5
}
