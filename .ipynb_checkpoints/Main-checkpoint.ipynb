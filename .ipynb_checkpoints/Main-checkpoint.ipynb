{
 "cells": [
  {
   "cell_type": "code",
   "execution_count": 22,
   "id": "073ee218-f727-4e0c-8e8e-5f31a02eae6f",
   "metadata": {},
   "outputs": [],
   "source": [
    "from transformers import AutoTokenizer, RobertaForQuestionAnswering\n",
    "from datasets import load_dataset\n",
    "import torch"
   ]
  },
  {
   "cell_type": "code",
   "execution_count": 23,
   "id": "a4936ef3-2aa1-4555-9fa0-0dbdd269631a",
   "metadata": {},
   "outputs": [],
   "source": [
    "tokenizer = AutoTokenizer.from_pretrained(\"deepset/roberta-base-squad2\")\n",
    "model = RobertaForQuestionAnswering.from_pretrained(\"deepset/roberta-base-squad2\")"
   ]
  },
  {
   "cell_type": "code",
   "execution_count": 76,
   "id": "5cc6f3eb-8391-453d-9787-aaaaa000736e",
   "metadata": {},
   "outputs": [
    {
     "name": "stdout",
     "output_type": "stream",
     "text": [
      "Dataset({\n",
      "    features: ['context', 'question', 'answer', 'start'],\n",
      "    num_rows: 41\n",
      "})\n"
     ]
    }
   ],
   "source": [
    "train_data = load_dataset(\"csv\", data_files=\"Dados/train_data.csv\")\n",
    "test_data = load_dataset(\"csv\", data_files=\"Dados/test_data.csv\")\n",
    "\n",
    "print(train_data['train'])"
   ]
  },
  {
   "cell_type": "code",
   "execution_count": 113,
   "id": "34e8cacb-f9db-4287-84e9-d97f39aa94c4",
   "metadata": {},
   "outputs": [
    {
     "data": {
      "application/vnd.jupyter.widget-view+json": {
       "model_id": "0e8f48537d7b481bb9f2fb6229230596",
       "version_major": 2,
       "version_minor": 0
      },
      "text/plain": [
       "Map:   0%|          | 0/41 [00:00<?, ? examples/s]"
      ]
     },
     "metadata": {},
     "output_type": "display_data"
    }
   ],
   "source": [
    "def tokenize_function(example):\n",
    "    context_prompt = 'context: '\n",
    "    question_prompt = ' question: '\n",
    "    answer_human_prompt = ' human_answer: '\n",
    "    answer_model_prompt = ' model_answer: '\n",
    "    prompts = [context_prompt + context + question_prompt + question + answer_human_prompt for context, question in zip(example[\"context\"], example[\"question\"])]\n",
    "    respostas = [answer + answer_model_prompt for answer in example[\"answer\"]]\n",
    "    inputs = tokenizer(prompts, padding=\"max_length\", truncation=True, max_length = 1000, return_tensors=\"pt\")\n",
    "    labels = tokenizer(respostas, padding=\"max_length\", truncation=True, max_length = 1000, return_tensors=\"pt\")\n",
    "    combined_input_ids = torch.cat((inputs.input_ids, labels.input_ids), dim=1)\n",
    "    example['input_ids'] = combined_input_ids\n",
    "    example['attention_mask'] = inputs.attention_mask\n",
    "\n",
    "    return example\n",
    "\n",
    "tokenized_train_data = train_data.map(tokenize_function, batched=True)\n",
    "tokenized_test_data = train_data.map(tokenize_function, batched=True)"
   ]
  },
  {
   "cell_type": "code",
   "execution_count": 114,
   "id": "243342eb-ac64-43f6-ab31-e93005b4aae7",
   "metadata": {},
   "outputs": [
    {
     "data": {
      "text/plain": [
       "'context: O Aprendiz do Futuro é uma iniciativa do Governo do Estado de Goiás, por meio da Secretaria de Estado de Desenvolvimento Social (SEDS), que tem como visão oferecer o maior programa de sócio-aprendizagem do Brasil e do mundo com foco em tecnologia, alta performance e impacto social na vida dos jovens em situação de vulnerabilidade. question: Quais a visão do programa Aprendiz do Futuro? human_answer: A visão do Programa Aprendiz do Futuro é criar um ambiente de aprendizado inovador e inclusivo, onde os jovens possam desenvolver suas habilidades e alcançar seu pleno potencial, contribuindo assim para um futuro melhor para si e para suas comunidades. model_answer: '"
      ]
     },
     "execution_count": 114,
     "metadata": {},
     "output_type": "execute_result"
    }
   ],
   "source": [
    "tokenizer.decode(tokenized_test_data['train'][5]['input_ids'], skip_special_tokens=True)"
   ]
  },
  {
   "cell_type": "code",
   "execution_count": null,
   "id": "82e307e8-80fb-4627-8f48-d636ab544ba1",
   "metadata": {},
   "outputs": [],
   "source": [
    "output_dir = f'./question-answering-training-{str(int(time.time()))}'\n",
    "\n",
    "training_args = TrainingArguments(\n",
    "    output_dir=output_dir,\n",
    "    learning_rate=1e-5,\n",
    "    num_train_epochs=1,\n",
    "    weight_decay=0.01,\n",
    "    logging_steps=1,\n",
    "    max_steps=1\n",
    ")\n",
    "\n",
    "trainer = Trainer(\n",
    "    model=original_model,\n",
    "    args=training_args,\n",
    "    train_dataset=tokenized_datasets['train'],\n",
    "    eval_dataset=tokenized_datasets['validation']\n",
    ")"
   ]
  },
  {
   "cell_type": "code",
   "execution_count": null,
   "id": "3657414a-de09-4a87-b3be-e5a3655baa78",
   "metadata": {},
   "outputs": [],
   "source": [
    "trainer.train()"
   ]
  }
 ],
 "metadata": {
  "kernelspec": {
   "display_name": "Python 3 (ipykernel)",
   "language": "python",
   "name": "python3"
  },
  "language_info": {
   "codemirror_mode": {
    "name": "ipython",
    "version": 3
   },
   "file_extension": ".py",
   "mimetype": "text/x-python",
   "name": "python",
   "nbconvert_exporter": "python",
   "pygments_lexer": "ipython3",
   "version": "3.12.2"
  }
 },
 "nbformat": 4,
 "nbformat_minor": 5
}
